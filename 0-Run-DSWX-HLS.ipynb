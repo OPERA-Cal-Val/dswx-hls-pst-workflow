{
 "cells": [
  {
   "cell_type": "markdown",
   "id": "b7ad040e-c36e-4e7d-ac65-9d7a91c8d105",
   "metadata": {},
   "source": [
    "Just supply the HLS ID and this generates a DSWx-HLS product"
   ]
  },
  {
   "cell_type": "code",
   "execution_count": 1,
   "id": "14684653-c6ea-484e-a135-a7f21fa232e2",
   "metadata": {
    "editable": true,
    "slideshow": {
     "slide_type": ""
    },
    "tags": []
   },
   "outputs": [],
   "source": [
    "from pystac_client import Client  \n",
    "import matplotlib.pyplot as plt\n",
    "from tqdm import tqdm\n",
    "from pathlib import Path\n",
    "import requests\n",
    "import concurrent.futures\n",
    "from dem_stitcher import stitch_dem\n",
    "from tile_stitcher import get_raster_from_tiles\n",
    "import rasterio\n",
    "import geopandas as gpd\n",
    "import yaml\n",
    "from shapely.geometry import box\n",
    "from dotenv import dotenv_values\n",
    "import datetime\n",
    "import re\n",
    "from dem_stitcher.rio_window import transform_bounds\n",
    "from rasterio.crs import CRS\n",
    "import json\n",
    "import backoff"
   ]
  },
  {
   "cell_type": "markdown",
   "id": "6c98c836-3864-4629-9b81-5365a97a05a0",
   "metadata": {
    "editable": true,
    "slideshow": {
     "slide_type": ""
    },
    "tags": []
   },
   "source": [
    "# Parameters"
   ]
  },
  {
   "cell_type": "markdown",
   "id": "ea700205-40ba-4bb6-a0be-cb657b3bb0d3",
   "metadata": {
    "editable": true,
    "slideshow": {
     "slide_type": ""
    },
    "tags": []
   },
   "source": [
    "If you specify a directory for HLS layers, assume all the files are in a directory - directory should not mix products!"
   ]
  },
  {
   "cell_type": "code",
   "execution_count": 2,
   "id": "c494f42e-318c-49f7-ae8c-dfe8a8c28711",
   "metadata": {
    "editable": true,
    "slideshow": {
     "slide_type": ""
    },
    "tags": [
     "parameters"
    ]
   },
   "outputs": [],
   "source": [
    "HLS_ID_OR_HLS_DIR_PATH = 'HLS.L30.T22UCU.2021266T142337.v2.0' # either all files are in a directory\n",
    "OUT_DIR = 'out'\n",
    "AEROSOL_PARAM = True\n",
    "DOWNLOAD_HLS = True"
   ]
  },
  {
   "cell_type": "markdown",
   "id": "efc8bf11-7b53-4e6f-94ea-12626ec393de",
   "metadata": {
    "editable": true,
    "slideshow": {
     "slide_type": ""
    },
    "tags": []
   },
   "source": [
    "# Accounting"
   ]
  },
  {
   "cell_type": "code",
   "execution_count": 3,
   "id": "5cb61b96-4454-46ed-9915-9d124b509f3b",
   "metadata": {
    "editable": true,
    "slideshow": {
     "slide_type": ""
    },
    "tags": []
   },
   "outputs": [
    {
     "data": {
      "text/plain": [
       "'HLS.L30.T22UCU.2021266T142337.v2.0'"
      ]
     },
     "execution_count": 3,
     "metadata": {},
     "output_type": "execute_result"
    }
   ],
   "source": [
    "if DOWNLOAD_HLS:\n",
    "    HLS_ID = HLS_ID_OR_HLS_DIR_PATH\n",
    "else:\n",
    "    dir_path = Path(HLS_ID_OR_HLS_DIR_PATH)\n",
    "    assert dir_path.exists()\n",
    "    assert dir_path.is_dir()\n",
    "    tifs = sorted(list((dir_path).glob('*.tif')))\n",
    "    # HLS.L30.T22UCU.2021266T142337.v2.0.B01.tif\n",
    "    HLS_ID = '.'.join(tifs[0].stem.split('.')[:-1])\n",
    "HLS_ID"
   ]
  },
  {
   "cell_type": "code",
   "execution_count": 4,
   "id": "9c75c38d-815a-4a44-865a-f46150f0a0db",
   "metadata": {},
   "outputs": [],
   "source": [
    "OUT_DIR = Path(OUT_DIR)\n",
    "OUT_DIR.mkdir(exist_ok=True, parents=True)"
   ]
  },
  {
   "cell_type": "code",
   "execution_count": 5,
   "id": "1ba6b5f6-fcec-440d-96e4-6bc26d121ce7",
   "metadata": {},
   "outputs": [],
   "source": [
    "config = dotenv_values()\n",
    "\n",
    "ED_USERNAME = config['ED_USERNAME']\n",
    "ED_PASSWORD = config['ED_PASSWORD']"
   ]
  },
  {
   "cell_type": "code",
   "execution_count": 6,
   "id": "2b1e4f33-57f5-4402-99da-7808029e2d8f",
   "metadata": {},
   "outputs": [],
   "source": [
    "work_dir = Path('work') / HLS_ID\n",
    "work_dir.mkdir(exist_ok=True, parents=True)"
   ]
  },
  {
   "cell_type": "markdown",
   "id": "590f638d-50be-4847-bef3-8c5b739d4246",
   "metadata": {
    "editable": true,
    "slideshow": {
     "slide_type": ""
    },
    "tags": []
   },
   "source": [
    "## DSWx ID"
   ]
  },
  {
   "cell_type": "code",
   "execution_count": 7,
   "id": "ab4274fd-6f99-41af-8a3e-eed17d79daec",
   "metadata": {
    "editable": true,
    "slideshow": {
     "slide_type": ""
    },
    "tags": []
   },
   "outputs": [
    {
     "data": {
      "text/plain": [
       "'OPERA_L3_DSWx-HLS_T22UCU_20210923T142337Z_202312210937Z'"
      ]
     },
     "execution_count": 7,
     "metadata": {},
     "output_type": "execute_result"
    }
   ],
   "source": [
    "def get_dswx_id(hls_id: str):\n",
    "    # Source: https://github.com/nasa/opera-sds-pcm/blob/83ed093f90fc7ed298f6bfc3a82f6aa48aece5e2/tools/ops/cnm_check.py#L84\n",
    "    m = re.match(\n",
    "        r'(?P<product_shortname>HLS[.]([LS])30)[.]'\n",
    "        r'(?P<tile_id>T[^\\W_]{5})[.]'\n",
    "        r'(?P<acquisition_ts>(?P<year>\\d{4})(?P<day_of_year>\\d{3})T(?P<hour>\\d{2})(?P<minute>\\d{2})(?P<second>\\d{2}))[.]'\n",
    "        r'(?P<collection_version>v\\d+[.]\\d+)$',\n",
    "        hls_id\n",
    "    )\n",
    "    tile = m.group(\"tile_id\")\n",
    "    year = m.group(\"year\")\n",
    "    doy = m.group(\"day_of_year\")\n",
    "    time_of_day = m.group(\"acquisition_ts\").split(\"T\")[1]\n",
    "    date = datetime.datetime(int(year), 1, 1) + datetime.timedelta(int(doy) - 1)\n",
    "    dswx_acquisition_dt_str = f\"{date.strftime('%Y%m%d')}T{time_of_day}\"\n",
    "\n",
    "    now = datetime.datetime.now()\n",
    "    now_str = now.strftime('%Y%m%d%H%S')\n",
    "    dswx_id = f'OPERA_L3_DSWx-HLS_{tile}_{dswx_acquisition_dt_str}Z_{now_str}Z'\n",
    "\n",
    "    return dswx_id\n",
    "\n",
    "dswx_id = get_dswx_id(HLS_ID)\n",
    "dswx_id"
   ]
  },
  {
   "cell_type": "code",
   "execution_count": 8,
   "id": "d624306a-e3e2-4988-b654-96f31e5d0f4c",
   "metadata": {
    "editable": true,
    "slideshow": {
     "slide_type": ""
    },
    "tags": []
   },
   "outputs": [],
   "source": [
    "product_version = 1.0\n",
    "\n",
    "# This is where DSWx will get written\n",
    "output_dir = OUT_DIR / f'{dswx_id}_{product_version}'\n",
    "output_dir.mkdir(exist_ok=True, parents=True)"
   ]
  },
  {
   "cell_type": "code",
   "execution_count": 9,
   "id": "cf5654f8-6ea4-4a6c-bcac-f4bbff703197",
   "metadata": {
    "editable": true,
    "slideshow": {
     "slide_type": ""
    },
    "tags": []
   },
   "outputs": [],
   "source": [
    "data = {'hls_id': HLS_ID,\n",
    "        'dswx_product_dir': str(output_dir)}\n",
    "json.dump(data,\n",
    "          open(output_dir / 'hls_dswx_dict.json', 'w'))"
   ]
  },
  {
   "cell_type": "markdown",
   "id": "7d50a330-acef-40ca-8eb8-b2fb2274c457",
   "metadata": {
    "editable": true,
    "slideshow": {
     "slide_type": ""
    },
    "tags": []
   },
   "source": [
    "# Download HLS Tile"
   ]
  },
  {
   "cell_type": "code",
   "execution_count": 10,
   "id": "e62f99e5-6e08-46b3-9812-5df70ea20fbb",
   "metadata": {
    "editable": true,
    "slideshow": {
     "slide_type": ""
    },
    "tags": []
   },
   "outputs": [],
   "source": [
    "hls_dir = work_dir / HLS_ID\n",
    "hls_dir.mkdir(exist_ok=True, parents=True)"
   ]
  },
  {
   "cell_type": "code",
   "execution_count": 11,
   "id": "9ce1b886-cb68-486e-85a7-361460b50e45",
   "metadata": {
    "editable": true,
    "slideshow": {
     "slide_type": ""
    },
    "tags": []
   },
   "outputs": [],
   "source": [
    "@backoff.on_exception(backoff.expo,\n",
    "                      Exception,\n",
    "                      max_tries=10)\n",
    "def download_one(url: str, work_dir: Path = hls_dir):\n",
    "    # Source: https://stackoverflow.com/questions/16694907/download-large-file-in-python-with-requests\n",
    "    local_filename = work_dir / url.split('/')[-1]\n",
    "    session = requests.Session()\n",
    "    session.auth = (ED_USERNAME, ED_PASSWORD)\n",
    "    with session.get(url, stream=True) as r:\n",
    "        r.raise_for_status()\n",
    "        with open(local_filename, 'wb') as f:\n",
    "            for chunk in r.iter_content(chunk_size=8192): \n",
    "                f.write(chunk)\n",
    "    return local_filename\n",
    "\n",
    "@backoff.on_exception(backoff.expo,\n",
    "                      Exception,\n",
    "                      max_tries=10)\n",
    "def get_hls_urls(hls_id: str) -> list[str]:\n",
    "    STAC_URL = 'https://cmr.earthdata.nasa.gov/stac'\n",
    "    api = Client.open(f'{STAC_URL}/LPCLOUD/')\n",
    "    hls_collections = ['HLSL30.v2.0', 'HLSS30.v2.0']\n",
    "\n",
    "    search_params = {\"collections\": hls_collections,\n",
    "                     \"ids\": [HLS_ID],\n",
    "                     \"max_items\": 5}\n",
    "    resp = api.search(**search_params)\n",
    "    resp_items = resp.item_collection()\n",
    "\n",
    "    urls = [asset.href for asset in resp_items[0].assets.values() if asset.href[-4:] not in ['.xml', '.jpg']]\n",
    "    return urls\n",
    "    \n",
    "def download_hls_data(hls_id: str) -> list[str]:\n",
    "    urls = get_hls_urls(hls_id)\n",
    "    with concurrent.futures.ThreadPoolExecutor(max_workers=5) as executor:\n",
    "        hls_paths = list(tqdm(executor.map(download_one, urls), total=len(urls)))\n",
    "    return hls_paths"
   ]
  },
  {
   "cell_type": "code",
   "execution_count": 12,
   "id": "5c723cbc-8b77-4fc0-a6c8-a6a7d38578a1",
   "metadata": {
    "editable": true,
    "slideshow": {
     "slide_type": ""
    },
    "tags": []
   },
   "outputs": [
    {
     "name": "stderr",
     "output_type": "stream",
     "text": [
      "100%|█████████████████████████████████| 15/15 [00:24<00:00,  1.63s/it]\n"
     ]
    }
   ],
   "source": [
    "hls_paths = download_hls_data(HLS_ID)"
   ]
  },
  {
   "cell_type": "markdown",
   "id": "27af19fa-4a33-4aa7-beb7-8f7ff27203b8",
   "metadata": {
    "editable": true,
    "slideshow": {
     "slide_type": ""
    },
    "tags": []
   },
   "source": [
    "# HLS Bounds (with a buffer)\n",
    "\n",
    "Get bounds of HLS tile"
   ]
  },
  {
   "cell_type": "code",
   "execution_count": 13,
   "id": "d7dab2b6-5fee-4bf7-859f-45605235cb65",
   "metadata": {
    "editable": true,
    "slideshow": {
     "slide_type": ""
    },
    "tags": []
   },
   "outputs": [
    {
     "data": {
      "text/plain": [
       "(-53.917542329726025, 47.48415560187451, -51.97700553578177, 48.99648044425331)"
      ]
     },
     "execution_count": 13,
     "metadata": {},
     "output_type": "execute_result"
    }
   ],
   "source": [
    "with rasterio.open(hls_paths[0]) as ds:\n",
    "    org_bounds = list(ds.bounds)\n",
    "    hls_crs = ds.crs\n",
    "org_bounds_4326 = transform_bounds(org_bounds, hls_crs, CRS.from_epsg(4326))\n",
    "\n",
    "hls_bounds = box(*org_bounds_4326).buffer(.25).bounds\n",
    "hls_bounds"
   ]
  },
  {
   "cell_type": "markdown",
   "id": "c953fdcc-74f5-4458-acd9-f1e038e17d52",
   "metadata": {},
   "source": [
    "# Auxiliary Datasets\n",
    "\n",
    "## DEM"
   ]
  },
  {
   "cell_type": "code",
   "execution_count": null,
   "id": "a041ffda-ab57-47b2-ad3f-bf5000d4699e",
   "metadata": {},
   "outputs": [
    {
     "name": "stderr",
     "output_type": "stream",
     "text": [
      "Reading glo_30 Datasets: 100%|██████████| 4/4 [00:07<00:00,  1.86s/it]\n"
     ]
    }
   ],
   "source": [
    "dst_area_or_point = 'Point'\n",
    "dem, p_dem = stitch_dem(hls_bounds, \n",
    "                        'glo_30', \n",
    "                        dst_area_or_point=dst_area_or_point, \n",
    "                        dst_ellipsoidal_height=True)"
   ]
  },
  {
   "cell_type": "code",
   "execution_count": null,
   "id": "fe49dc26-6041-4ac3-b36b-c3e00ea5000d",
   "metadata": {},
   "outputs": [],
   "source": [
    "dem_path = work_dir / 'glo_30.tif'"
   ]
  },
  {
   "cell_type": "code",
   "execution_count": null,
   "id": "eef48a47-1d16-4cf6-bd4e-5164fcca392d",
   "metadata": {},
   "outputs": [],
   "source": [
    "with rasterio.open(dem_path, 'w', **p_dem) as ds:\n",
    "   ds.write(dem, 1)\n",
    "   ds.update_tags(AREA_OR_POINT=dst_area_or_point)"
   ]
  },
  {
   "cell_type": "markdown",
   "id": "7815b9ee-f8b2-45ed-a7dd-e34d45af5826",
   "metadata": {},
   "source": [
    "## ESA 10 m world cover"
   ]
  },
  {
   "cell_type": "code",
   "execution_count": null,
   "id": "25fd13c2-a389-4a90-ac0a-33f7668113c9",
   "metadata": {},
   "outputs": [],
   "source": [
    "X_esa_wc, p_wc = get_raster_from_tiles(hls_bounds, \n",
    "                                       tile_shortname='esa_world_cover_2021')"
   ]
  },
  {
   "cell_type": "code",
   "execution_count": null,
   "id": "5a4bc3e2-8ef5-4525-bbbc-7719fa58014c",
   "metadata": {},
   "outputs": [],
   "source": [
    "wc_10m_path = work_dir / f'wc_10m.tif'"
   ]
  },
  {
   "cell_type": "code",
   "execution_count": null,
   "id": "db82aa21-8b41-4ce2-ba20-a4f2a9dcb1f9",
   "metadata": {},
   "outputs": [],
   "source": [
    "with rasterio.open(wc_10m_path, 'w', **p_wc) as ds:\n",
    "    ds.write(X_esa_wc)"
   ]
  },
  {
   "cell_type": "markdown",
   "id": "c7b6139c-e912-42ba-8ac0-a350d87b4a43",
   "metadata": {},
   "source": [
    "# ESA 100 m World Cover"
   ]
  },
  {
   "cell_type": "code",
   "execution_count": null,
   "id": "692a2356-f102-4209-aa4d-6868cf5f0215",
   "metadata": {},
   "outputs": [],
   "source": [
    "wc_100m_path =  work_dir / f'wc_100m.tif'"
   ]
  },
  {
   "cell_type": "code",
   "execution_count": null,
   "id": "5f38568f-8569-4a3e-a8dd-cd7806f58a6f",
   "metadata": {},
   "outputs": [],
   "source": [
    "X_cop100, p_cop100 = get_raster_from_tiles(hls_bounds, \n",
    "                                           tile_shortname='cop_100_lulc_discrete',\n",
    "                                           year=2019)"
   ]
  },
  {
   "cell_type": "code",
   "execution_count": null,
   "id": "b268ab02-499f-48d9-b222-f84c8a225be5",
   "metadata": {},
   "outputs": [],
   "source": [
    "with rasterio.open(wc_100m_path, 'w', **p_cop100) as ds:\n",
    "    ds.write(X_cop100)"
   ]
  },
  {
   "cell_type": "markdown",
   "id": "44317d7f-fdaf-4027-b5bd-05ba9135a524",
   "metadata": {},
   "source": [
    "## NOAA GSHHS\n",
    "\n",
    "Commented out because it's not necessary when ocean mapping is not applied."
   ]
  },
  {
   "cell_type": "code",
   "execution_count": null,
   "id": "f0caf089-c890-4f33-ae59-6c250a20ce13",
   "metadata": {},
   "outputs": [],
   "source": [
    "# %%time\n",
    "\n",
    "# #coastline_url = 'http://www.soest.hawaii.edu/pwessel/gshhg/gshhg-shp-2.3.7.zip' # Source: https://www.soest.hawaii.edu/pwessel/gshhg/index.html\n",
    "# coastline_url = ('https://asf-dem-west.s3.us-west-2.amazonaws.com'\n",
    "#                  '/WATER_MASK/GSHHG/GSHHS_shp/f/GSHHS_f_L1.shp')\n",
    "\n",
    "# df = gpd.read_file(coastline_url, bbox=hls_bounds)\n",
    "# df.head()"
   ]
  },
  {
   "cell_type": "code",
   "execution_count": null,
   "id": "35e80340-6830-4f63-86b8-214a6d0396f7",
   "metadata": {},
   "outputs": [],
   "source": [
    "# coastline_path = work_dir / 'gshhs_coastline'\n",
    "# coastline_path_shp = coastline_path / (coastline_path.stem + '.shp')"
   ]
  },
  {
   "cell_type": "code",
   "execution_count": null,
   "id": "a0a745ee-7fa1-4690-b3af-d2513d5aa822",
   "metadata": {},
   "outputs": [],
   "source": [
    "# df.to_file(coastline_path)"
   ]
  },
  {
   "cell_type": "markdown",
   "id": "a4ef274b-1d20-480f-8396-c88c65254116",
   "metadata": {},
   "source": [
    "## Delete all the data from memory"
   ]
  },
  {
   "cell_type": "code",
   "execution_count": null,
   "id": "f2cd4042-d53f-4fec-b647-3d9c63852f7b",
   "metadata": {},
   "outputs": [],
   "source": [
    "del dem\n",
    "# del df\n",
    "del X_cop100\n",
    "del X_esa_wc"
   ]
  },
  {
   "cell_type": "markdown",
   "id": "b9998b2b-3139-4c70-a6c0-013c79b50de7",
   "metadata": {},
   "source": [
    "# Setup Runconfig"
   ]
  },
  {
   "cell_type": "code",
   "execution_count": null,
   "id": "c06842a4-3550-4df8-a10d-8ac5026cf976",
   "metadata": {},
   "outputs": [],
   "source": [
    "dswx_hls_runconfig_url = 'https://raw.githubusercontent.com/nasa/PROTEUS/main/src/proteus/defaults/dswx_hls.yaml'"
   ]
  },
  {
   "cell_type": "code",
   "execution_count": null,
   "id": "80680edf-15de-43ee-8692-d838c4367250",
   "metadata": {},
   "outputs": [],
   "source": [
    "resp = requests.get(dswx_hls_runconfig_url)\n",
    "runconfig_dict = yaml.safe_load(resp.content)\n",
    "runconfig_dict"
   ]
  },
  {
   "cell_type": "code",
   "execution_count": null,
   "id": "f28588ab-3630-4d10-81d2-07235f4b808f",
   "metadata": {},
   "outputs": [],
   "source": [
    "hls_paths_str = [str(p.resolve()) for p in hls_paths]\n",
    "hls_paths_str[:2]"
   ]
  },
  {
   "cell_type": "code",
   "execution_count": null,
   "id": "0a457a35-2df9-4dd7-9466-0d40b9040f6e",
   "metadata": {},
   "outputs": [],
   "source": [
    "runconfig_dict['runconfig']['groups']['processing']['apply_aerosol_class_remapping'] = AEROSOL_PARAM"
   ]
  },
  {
   "cell_type": "code",
   "execution_count": null,
   "id": "6582791c-31fd-4f2a-a06a-2223e0896e80",
   "metadata": {},
   "outputs": [],
   "source": [
    "runconfig_dict['runconfig']['groups']['input_file_group']['input_file_path'] = hls_paths_str\n",
    "runconfig_dict['runconfig']['groups']['dynamic_ancillary_file_group']['dem_file'] = str(dem_path.resolve())\n",
    "runconfig_dict['runconfig']['groups']['dynamic_ancillary_file_group']['landcover_file'] = str(wc_100m_path.resolve())\n",
    "runconfig_dict['runconfig']['groups']['dynamic_ancillary_file_group']['worldcover_file'] = str(wc_10m_path.resolve())\n",
    "#runconfig_dict['runconfig']['groups']['dynamic_ancillary_file_group']['shoreline_shapefile'] = str(coastline_path_shp.resolve())"
   ]
  },
  {
   "cell_type": "code",
   "execution_count": null,
   "id": "fdacbb36-ec9f-4a9e-ad00-f030501097f9",
   "metadata": {
    "editable": true,
    "slideshow": {
     "slide_type": ""
    },
    "tags": []
   },
   "outputs": [],
   "source": [
    "product_path = work_dir / 'product'\n",
    "scratch_path = work_dir / 'scratch'\n",
    "\n",
    "\n",
    "runconfig_dict['runconfig']['groups']['product_path_group']['product_path'] = str(product_path.resolve())\n",
    "runconfig_dict['runconfig']['groups']['product_path_group']['scratch_path'] = str(scratch_path.resolve())\n",
    "runconfig_dict['runconfig']['groups']['product_path_group']['product_version'] = product_version\n",
    "runconfig_dict['runconfig']['groups']['product_path_group']['product_id'] = dswx_id\n",
    "runconfig_dict['runconfig']['groups']['product_path_group']['output_dir'] = str(output_dir)"
   ]
  },
  {
   "cell_type": "code",
   "execution_count": null,
   "id": "83d3edfa-98b1-456e-a48a-5516a1f17378",
   "metadata": {},
   "outputs": [],
   "source": [
    "runconfig_path = work_dir/ 'runconfig.yaml'\n",
    "with open(runconfig_path, 'w') as f:\n",
    "    yaml.dump(runconfig_dict, f, default_flow_style=False)"
   ]
  },
  {
   "cell_type": "markdown",
   "id": "8380f06f-9b63-4e8d-836a-211f428c12bd",
   "metadata": {},
   "source": [
    "From the README - this is the recommended way - for debugging - it's easiest to write this to terminal. Ideally, we could use [this](https://github.com/nasa/PROTEUS/blob/main/tests/test_dswx_hls_workflow.py) to get python error-handling. But this worked and not messing.\n",
    "\n",
    "**Note** this will require that the notebook is run from the environment `dswx_hls`!"
   ]
  },
  {
   "cell_type": "code",
   "execution_count": null,
   "id": "3986178f-9470-4b8a-94bd-7b6642626055",
   "metadata": {
    "editable": true,
    "slideshow": {
     "slide_type": ""
    },
    "tags": []
   },
   "outputs": [],
   "source": [
    "!dswx_hls.py {runconfig_path}"
   ]
  }
 ],
 "metadata": {
  "kernelspec": {
   "display_name": "dswx_hls_generation",
   "language": "python",
   "name": "dswx_hls_generation"
  },
  "language_info": {
   "codemirror_mode": {
    "name": "ipython",
    "version": 3
   },
   "file_extension": ".py",
   "mimetype": "text/x-python",
   "name": "python",
   "nbconvert_exporter": "python",
   "pygments_lexer": "ipython3",
   "version": "3.11.7"
  }
 },
 "nbformat": 4,
 "nbformat_minor": 5
}
