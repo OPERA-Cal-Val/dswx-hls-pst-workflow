{
 "cells": [
  {
   "cell_type": "markdown",
   "id": "b7ad040e-c36e-4e7d-ac65-9d7a91c8d105",
   "metadata": {},
   "source": [
    "Just supply the HLS ID and this generates a DSWx-HLS product. \n",
    "\n",
    "WIP: Alternatively, specify a product directory with all the products (this is not working quite yet)."
   ]
  },
  {
   "cell_type": "code",
   "execution_count": 1,
   "id": "14684653-c6ea-484e-a135-a7f21fa232e2",
   "metadata": {
    "slideshow": {
     "slide_type": ""
    },
    "tags": []
   },
   "outputs": [],
   "source": [
    "from pystac_client import Client  \n",
    "import matplotlib.pyplot as plt\n",
    "from tqdm import tqdm\n",
    "from pathlib import Path\n",
    "import requests\n",
    "import concurrent.futures\n",
    "from dem_stitcher import stitch_dem\n",
    "from dem_stitcher.exceptions import NoDEMCoverage\n",
    "from dem_stitcher.geoid import read_geoid\n",
    "from tile_stitcher import get_raster_from_tiles\n",
    "import rasterio\n",
    "import geopandas as gpd\n",
    "import yaml\n",
    "from shapely.geometry import box\n",
    "from dotenv import dotenv_values\n",
    "import datetime\n",
    "import re\n",
    "from dem_stitcher.rio_window import transform_bounds\n",
    "from rasterio.crs import CRS\n",
    "import json\n",
    "import backoff\n",
    "from proteus.dswx_hls import generate_dswx_layers,get_dswx_hls_cli_parser, parse_runconfig_file\n"
   ]
  },
  {
   "cell_type": "markdown",
   "id": "6c98c836-3864-4629-9b81-5365a97a05a0",
   "metadata": {
    "slideshow": {
     "slide_type": ""
    },
    "tags": []
   },
   "source": [
    "# Parameters"
   ]
  },
  {
   "cell_type": "markdown",
   "id": "ea700205-40ba-4bb6-a0be-cb657b3bb0d3",
   "metadata": {
    "slideshow": {
     "slide_type": ""
    },
    "tags": []
   },
   "source": [
    "If you specify a directory for HLS layers, assume all the files are in a directory - directory should not mix products!"
   ]
  },
  {
   "cell_type": "code",
   "execution_count": 2,
   "id": "c494f42e-318c-49f7-ae8c-dfe8a8c28711",
   "metadata": {
    "slideshow": {
     "slide_type": ""
    },
    "tags": [
     "parameters"
    ]
   },
   "outputs": [],
   "source": [
    "HLS_ID_OR_HLS_DIR_PATH = 'HLS.S30.T53KMA.2021258T011731.v2.0' # either all files are in a directory\n",
    "OUT_DIR = 'out'\n",
    "AEROSOL_PARAM = True\n",
    "DOWNLOAD_HLS = True"
   ]
  },
  {
   "cell_type": "markdown",
   "id": "efc8bf11-7b53-4e6f-94ea-12626ec393de",
   "metadata": {
    "slideshow": {
     "slide_type": ""
    },
    "tags": []
   },
   "source": [
    "# Accounting"
   ]
  },
  {
   "cell_type": "code",
   "execution_count": 3,
   "id": "5cb61b96-4454-46ed-9915-9d124b509f3b",
   "metadata": {
    "slideshow": {
     "slide_type": ""
    },
    "tags": []
   },
   "outputs": [
    {
     "data": {
      "text/plain": [
       "'HLS.S30.T53KMA.2021258T011731.v2.0'"
      ]
     },
     "execution_count": 3,
     "metadata": {},
     "output_type": "execute_result"
    }
   ],
   "source": [
    "if DOWNLOAD_HLS:\n",
    "    assert HLS_ID_OR_HLS_DIR_PATH[:7] in ['HLS.L30', 'HLS.S30']\n",
    "    HLS_ID = HLS_ID_OR_HLS_DIR_PATH\n",
    "else:\n",
    "    dir_path = Path(HLS_ID_OR_HLS_DIR_PATH)\n",
    "    assert dir_path.exists()\n",
    "    assert dir_path.is_dir()\n",
    "    tifs = sorted(list((dir_path).glob('*.tif')))\n",
    "    # HLS.L30.T22UCU.2021266T142337.v2.0.B01.tif\n",
    "    HLS_ID = '.'.join(tifs[0].stem.split('.')[:-1])\n",
    "HLS_ID"
   ]
  },
  {
   "cell_type": "code",
   "execution_count": 4,
   "id": "9c75c38d-815a-4a44-865a-f46150f0a0db",
   "metadata": {},
   "outputs": [],
   "source": [
    "OUT_DIR = Path(OUT_DIR)\n",
    "OUT_DIR.mkdir(exist_ok=True, parents=True)"
   ]
  },
  {
   "cell_type": "code",
   "execution_count": 5,
   "id": "1ba6b5f6-fcec-440d-96e4-6bc26d121ce7",
   "metadata": {},
   "outputs": [],
   "source": [
    "config = dotenv_values()\n",
    "\n",
    "ED_USERNAME = config['ED_USERNAME']\n",
    "ED_PASSWORD = config['ED_PASSWORD']"
   ]
  },
  {
   "cell_type": "code",
   "execution_count": 6,
   "id": "2b1e4f33-57f5-4402-99da-7808029e2d8f",
   "metadata": {},
   "outputs": [],
   "source": [
    "work_dir = Path('work') / HLS_ID\n",
    "work_dir.mkdir(exist_ok=True, parents=True)"
   ]
  },
  {
   "cell_type": "markdown",
   "id": "590f638d-50be-4847-bef3-8c5b739d4246",
   "metadata": {
    "slideshow": {
     "slide_type": ""
    },
    "tags": []
   },
   "source": [
    "## DSWx ID"
   ]
  },
  {
   "cell_type": "code",
   "execution_count": 7,
   "id": "ab4274fd-6f99-41af-8a3e-eed17d79daec",
   "metadata": {
    "slideshow": {
     "slide_type": ""
    },
    "tags": []
   },
   "outputs": [
    {
     "data": {
      "text/plain": [
       "'OPERA_L3_DSWx-HLS_T53KMA_20210915T011731Z_202401091018Z'"
      ]
     },
     "execution_count": 7,
     "metadata": {},
     "output_type": "execute_result"
    }
   ],
   "source": [
    "def get_dswx_id(hls_id: str):\n",
    "    # Source: https://github.com/nasa/opera-sds-pcm/blob/83ed093f90fc7ed298f6bfc3a82f6aa48aece5e2/tools/ops/cnm_check.py#L84\n",
    "    m = re.match(\n",
    "        r'(?P<product_shortname>HLS[.]([LS])30)[.]'\n",
    "        r'(?P<tile_id>T[^\\W_]{5})[.]'\n",
    "        r'(?P<acquisition_ts>(?P<year>\\d{4})(?P<day_of_year>\\d{3})T(?P<hour>\\d{2})(?P<minute>\\d{2})(?P<second>\\d{2}))[.]'\n",
    "        r'(?P<collection_version>v\\d+[.]\\d+)$',\n",
    "        hls_id\n",
    "    )\n",
    "    tile = m.group(\"tile_id\")\n",
    "    year = m.group(\"year\")\n",
    "    doy = m.group(\"day_of_year\")\n",
    "    time_of_day = m.group(\"acquisition_ts\").split(\"T\")[1]\n",
    "    date = datetime.datetime(int(year), 1, 1) + datetime.timedelta(int(doy) - 1)\n",
    "    dswx_acquisition_dt_str = f\"{date.strftime('%Y%m%d')}T{time_of_day}\"\n",
    "\n",
    "    now = datetime.datetime.now()\n",
    "    now_str = now.strftime('%Y%m%d%H%S')\n",
    "    dswx_id = f'OPERA_L3_DSWx-HLS_{tile}_{dswx_acquisition_dt_str}Z_{now_str}Z'\n",
    "\n",
    "    return dswx_id\n",
    "\n",
    "dswx_id = get_dswx_id(HLS_ID)\n",
    "dswx_id"
   ]
  },
  {
   "cell_type": "code",
   "execution_count": 8,
   "id": "d624306a-e3e2-4988-b654-96f31e5d0f4c",
   "metadata": {
    "slideshow": {
     "slide_type": ""
    },
    "tags": []
   },
   "outputs": [],
   "source": [
    "product_version = 1.0\n",
    "\n",
    "# This is where DSWx will get written\n",
    "output_dir = OUT_DIR / f'{dswx_id}_{product_version}'\n",
    "output_dir.mkdir(exist_ok=True, parents=True)"
   ]
  },
  {
   "cell_type": "code",
   "execution_count": 9,
   "id": "cf5654f8-6ea4-4a6c-bcac-f4bbff703197",
   "metadata": {
    "slideshow": {
     "slide_type": ""
    },
    "tags": []
   },
   "outputs": [],
   "source": [
    "data = {'hls_id': HLS_ID,\n",
    "        'dswx_product_dir': str(output_dir)}\n",
    "json.dump(data,\n",
    "          open(output_dir / 'hls_dswx_dict.json', 'w'))"
   ]
  },
  {
   "cell_type": "markdown",
   "id": "7d50a330-acef-40ca-8eb8-b2fb2274c457",
   "metadata": {
    "slideshow": {
     "slide_type": ""
    },
    "tags": []
   },
   "source": [
    "# Download HLS Tile"
   ]
  },
  {
   "cell_type": "code",
   "execution_count": 10,
   "id": "e62f99e5-6e08-46b3-9812-5df70ea20fbb",
   "metadata": {
    "slideshow": {
     "slide_type": ""
    },
    "tags": []
   },
   "outputs": [],
   "source": [
    "hls_dir = work_dir / HLS_ID\n",
    "hls_dir.mkdir(exist_ok=True, parents=True)"
   ]
  },
  {
   "cell_type": "code",
   "execution_count": 11,
   "id": "db494ab7-a925-4250-bb7f-dc3acbd97ce3",
   "metadata": {},
   "outputs": [],
   "source": [
    "# Source: https://urs.earthdata.nasa.gov/documentation/for_users/data_access/python\n",
    "class SessionWithHeaderRedirection(requests.Session):\n",
    "    AUTH_HOST = 'urs.earthdata.nasa.gov'\n",
    "    def __init__(self, username, password):\n",
    "        super().__init__()\n",
    "        self.auth = (username, password)\n",
    "\n",
    "\n",
    "    def rebuild_auth(self, prepared_request, response):\n",
    "        headers = prepared_request.headers\n",
    "        url = prepared_request.url\n",
    "        if 'Authorization' in headers:\n",
    "            original_parsed = requests.utils.urlparse(response.request.url)\n",
    "            redirect_parsed = requests.utils.urlparse(url)\n",
    "            if (original_parsed.hostname != redirect_parsed.hostname) and \\\n",
    "                    redirect_parsed.hostname != self.AUTH_HOST and \\\n",
    "                    original_parsed.hostname != self.AUTH_HOST:\n",
    "                del headers['Authorization']\n",
    "\n",
    "        return"
   ]
  },
  {
   "cell_type": "code",
   "execution_count": 12,
   "id": "9ce1b886-cb68-486e-85a7-361460b50e45",
   "metadata": {
    "slideshow": {
     "slide_type": ""
    },
    "tags": []
   },
   "outputs": [],
   "source": [
    "@backoff.on_exception(backoff.expo,\n",
    "                      Exception,\n",
    "                      max_tries=10)\n",
    "def download_one(url: str, work_dir: Path = hls_dir):\n",
    "    # Source: https://stackoverflow.com/questions/16694907/download-large-file-in-python-with-requests\n",
    "    local_filename = work_dir / url.split('/')[-1]\n",
    "    session = SessionWithHeaderRedirection(ED_USERNAME, ED_PASSWORD)\n",
    "    with session.get(url, stream=True) as r:\n",
    "        r.raise_for_status()\n",
    "        with open(local_filename, 'wb') as f:\n",
    "            for chunk in r.iter_content(chunk_size=8192): \n",
    "                f.write(chunk)\n",
    "    return local_filename\n",
    "\n",
    "@backoff.on_exception(backoff.expo,\n",
    "                      Exception,\n",
    "                      max_tries=10)\n",
    "def get_hls_urls(hls_id: str) -> list[str]:\n",
    "    STAC_URL = 'https://cmr.earthdata.nasa.gov/stac'\n",
    "    api = Client.open(f'{STAC_URL}/LPCLOUD/')\n",
    "    hls_collections = ['HLSL30.v2.0', 'HLSS30.v2.0']\n",
    "\n",
    "    search_params = {\"collections\": hls_collections,\n",
    "                     \"ids\": [HLS_ID],\n",
    "                     \"max_items\": 5}\n",
    "    resp = api.search(**search_params)\n",
    "    resp_items = resp.item_collection()\n",
    "\n",
    "    urls = [asset.href for asset in resp_items[0].assets.values() if asset.href[-4:] not in ['.xml', '.jpg']]\n",
    "    return urls\n",
    "    \n",
    "def download_hls_data(hls_id: str) -> list[str]:\n",
    "    urls = get_hls_urls(hls_id)\n",
    "    with concurrent.futures.ThreadPoolExecutor(max_workers=5) as executor:\n",
    "        hls_paths = list(tqdm(executor.map(download_one, urls), total=len(urls)))\n",
    "    return sorted(hls_paths)"
   ]
  },
  {
   "cell_type": "code",
   "execution_count": 13,
   "id": "5c723cbc-8b77-4fc0-a6c8-a6a7d38578a1",
   "metadata": {
    "slideshow": {
     "slide_type": ""
    },
    "tags": []
   },
   "outputs": [
    {
     "name": "stderr",
     "output_type": "stream",
     "text": [
      "100%|███████████████████████████████████████████████████████████████████| 18/18 [00:38<00:00,  2.11s/it]\n"
     ]
    }
   ],
   "source": [
    "hls_paths = download_hls_data(HLS_ID)"
   ]
  },
  {
   "cell_type": "markdown",
   "id": "2512bc45-c962-4f90-9d47-d52cbbd0419b",
   "metadata": {},
   "source": [
    "I don't think we need filter out tif files not used based on this issue ticket: https://github.com/nasa/PROTEUS/pull/15"
   ]
  },
  {
   "cell_type": "code",
   "execution_count": 14,
   "id": "ff0aceb4-894c-4cbe-a3af-bc9caf7f576c",
   "metadata": {},
   "outputs": [
    {
     "data": {
      "text/plain": [
       "[PosixPath('work/HLS.S30.T53KMA.2021258T011731.v2.0/HLS.S30.T53KMA.2021258T011731.v2.0/HLS.S30.T53KMA.2021258T011731.v2.0.B01.tif'),\n",
       " PosixPath('work/HLS.S30.T53KMA.2021258T011731.v2.0/HLS.S30.T53KMA.2021258T011731.v2.0/HLS.S30.T53KMA.2021258T011731.v2.0.B02.tif'),\n",
       " PosixPath('work/HLS.S30.T53KMA.2021258T011731.v2.0/HLS.S30.T53KMA.2021258T011731.v2.0/HLS.S30.T53KMA.2021258T011731.v2.0.B03.tif'),\n",
       " PosixPath('work/HLS.S30.T53KMA.2021258T011731.v2.0/HLS.S30.T53KMA.2021258T011731.v2.0/HLS.S30.T53KMA.2021258T011731.v2.0.B04.tif'),\n",
       " PosixPath('work/HLS.S30.T53KMA.2021258T011731.v2.0/HLS.S30.T53KMA.2021258T011731.v2.0/HLS.S30.T53KMA.2021258T011731.v2.0.B05.tif'),\n",
       " PosixPath('work/HLS.S30.T53KMA.2021258T011731.v2.0/HLS.S30.T53KMA.2021258T011731.v2.0/HLS.S30.T53KMA.2021258T011731.v2.0.B06.tif'),\n",
       " PosixPath('work/HLS.S30.T53KMA.2021258T011731.v2.0/HLS.S30.T53KMA.2021258T011731.v2.0/HLS.S30.T53KMA.2021258T011731.v2.0.B07.tif'),\n",
       " PosixPath('work/HLS.S30.T53KMA.2021258T011731.v2.0/HLS.S30.T53KMA.2021258T011731.v2.0/HLS.S30.T53KMA.2021258T011731.v2.0.B08.tif'),\n",
       " PosixPath('work/HLS.S30.T53KMA.2021258T011731.v2.0/HLS.S30.T53KMA.2021258T011731.v2.0/HLS.S30.T53KMA.2021258T011731.v2.0.B09.tif'),\n",
       " PosixPath('work/HLS.S30.T53KMA.2021258T011731.v2.0/HLS.S30.T53KMA.2021258T011731.v2.0/HLS.S30.T53KMA.2021258T011731.v2.0.B10.tif'),\n",
       " PosixPath('work/HLS.S30.T53KMA.2021258T011731.v2.0/HLS.S30.T53KMA.2021258T011731.v2.0/HLS.S30.T53KMA.2021258T011731.v2.0.B11.tif'),\n",
       " PosixPath('work/HLS.S30.T53KMA.2021258T011731.v2.0/HLS.S30.T53KMA.2021258T011731.v2.0/HLS.S30.T53KMA.2021258T011731.v2.0.B12.tif'),\n",
       " PosixPath('work/HLS.S30.T53KMA.2021258T011731.v2.0/HLS.S30.T53KMA.2021258T011731.v2.0/HLS.S30.T53KMA.2021258T011731.v2.0.B8A.tif'),\n",
       " PosixPath('work/HLS.S30.T53KMA.2021258T011731.v2.0/HLS.S30.T53KMA.2021258T011731.v2.0/HLS.S30.T53KMA.2021258T011731.v2.0.Fmask.tif'),\n",
       " PosixPath('work/HLS.S30.T53KMA.2021258T011731.v2.0/HLS.S30.T53KMA.2021258T011731.v2.0/HLS.S30.T53KMA.2021258T011731.v2.0.SAA.tif'),\n",
       " PosixPath('work/HLS.S30.T53KMA.2021258T011731.v2.0/HLS.S30.T53KMA.2021258T011731.v2.0/HLS.S30.T53KMA.2021258T011731.v2.0.SZA.tif'),\n",
       " PosixPath('work/HLS.S30.T53KMA.2021258T011731.v2.0/HLS.S30.T53KMA.2021258T011731.v2.0/HLS.S30.T53KMA.2021258T011731.v2.0.VAA.tif'),\n",
       " PosixPath('work/HLS.S30.T53KMA.2021258T011731.v2.0/HLS.S30.T53KMA.2021258T011731.v2.0/HLS.S30.T53KMA.2021258T011731.v2.0.VZA.tif')]"
      ]
     },
     "execution_count": 14,
     "metadata": {},
     "output_type": "execute_result"
    }
   ],
   "source": [
    "hls_paths_filtered = hls_paths # [p for p in hls_paths if not any([substring in p.name for substring in ['SAA.tif', 'SZA.tif', 'VAA.tif', 'VZA.tif']])]\n",
    "hls_paths_filtered"
   ]
  },
  {
   "cell_type": "markdown",
   "id": "27af19fa-4a33-4aa7-beb7-8f7ff27203b8",
   "metadata": {
    "slideshow": {
     "slide_type": ""
    },
    "tags": []
   },
   "source": [
    "# HLS Bounds (with a buffer)\n",
    "\n",
    "Get bounds of HLS tile"
   ]
  },
  {
   "cell_type": "code",
   "execution_count": 15,
   "id": "d7dab2b6-5fee-4bf7-859f-45605235cb65",
   "metadata": {
    "slideshow": {
     "slide_type": ""
    },
    "tags": []
   },
   "outputs": [
    {
     "data": {
      "text/plain": [
       "(133.8041012239109,\n",
       " -18.424596638694386,\n",
       " 135.34178227524004,\n",
       " -16.93442912213914)"
      ]
     },
     "execution_count": 15,
     "metadata": {},
     "output_type": "execute_result"
    }
   ],
   "source": [
    "with rasterio.open(hls_paths_filtered[0]) as ds:\n",
    "    org_bounds = list(ds.bounds)\n",
    "    hls_crs = ds.crs\n",
    "org_bounds_4326 = transform_bounds(org_bounds, hls_crs, CRS.from_epsg(4326))\n",
    "\n",
    "hls_bounds = box(*org_bounds_4326).buffer(.25).bounds\n",
    "hls_bounds"
   ]
  },
  {
   "cell_type": "markdown",
   "id": "c953fdcc-74f5-4458-acd9-f1e038e17d52",
   "metadata": {},
   "source": [
    "# Auxiliary Datasets\n",
    "\n",
    "## DEM"
   ]
  },
  {
   "cell_type": "code",
   "execution_count": 16,
   "id": "a041ffda-ab57-47b2-ad3f-bf5000d4699e",
   "metadata": {},
   "outputs": [
    {
     "name": "stderr",
     "output_type": "stream",
     "text": [
      "Reading glo_30 Datasets: 100%|████████████████████████████████████████████| 9/9 [00:15<00:00,  1.77s/it]\n"
     ]
    }
   ],
   "source": [
    "dst_area_or_point = 'Point'\n",
    "try:\n",
    "    dem, p_dem = stitch_dem(hls_bounds, \n",
    "                            'glo_30', \n",
    "                            dst_area_or_point=dst_area_or_point, \n",
    "                            dst_ellipsoidal_height=True)\n",
    "except NoDEMCoverage:\n",
    "    print('no DEM coverage')\n",
    "    dem, p_dem = read_geoid('egm_08', hls_bounds, res_buffer=1)\n",
    "    # removes extra channel; guess we could have used squeeze too\n",
    "    dem = dem[0, ...]"
   ]
  },
  {
   "cell_type": "code",
   "execution_count": 17,
   "id": "fe49dc26-6041-4ac3-b36b-c3e00ea5000d",
   "metadata": {},
   "outputs": [],
   "source": [
    "dem_path = work_dir / 'glo_30.tif'"
   ]
  },
  {
   "cell_type": "code",
   "execution_count": 18,
   "id": "eef48a47-1d16-4cf6-bd4e-5164fcca392d",
   "metadata": {},
   "outputs": [],
   "source": [
    "with rasterio.open(dem_path, 'w', **p_dem) as ds:\n",
    "   ds.write(dem, 1)\n",
    "   ds.update_tags(AREA_OR_POINT=dst_area_or_point)"
   ]
  },
  {
   "cell_type": "markdown",
   "id": "7815b9ee-f8b2-45ed-a7dd-e34d45af5826",
   "metadata": {},
   "source": [
    "## ESA 10 m world cover"
   ]
  },
  {
   "cell_type": "code",
   "execution_count": 19,
   "id": "25fd13c2-a389-4a90-ac0a-33f7668113c9",
   "metadata": {},
   "outputs": [],
   "source": [
    "X_esa_wc, p_wc = get_raster_from_tiles(hls_bounds, \n",
    "                                       tile_shortname='esa_world_cover_2021')"
   ]
  },
  {
   "cell_type": "code",
   "execution_count": 20,
   "id": "5a4bc3e2-8ef5-4525-bbbc-7719fa58014c",
   "metadata": {},
   "outputs": [],
   "source": [
    "wc_10m_path = work_dir / f'wc_10m.tif'"
   ]
  },
  {
   "cell_type": "code",
   "execution_count": 21,
   "id": "db82aa21-8b41-4ce2-ba20-a4f2a9dcb1f9",
   "metadata": {},
   "outputs": [],
   "source": [
    "with rasterio.open(wc_10m_path, 'w', **p_wc) as ds:\n",
    "    ds.write(X_esa_wc)\n",
    "    # See: https://github.com/nasa/PROTEUS/blob/e5b411a91d5e78bc1479ba6d146ce62a29823e49/src/proteus/dswx_hls.py#L1053-L1088\n",
    "    ds.update_tags(time_end='2021-12-31T23:59:59Z',\n",
    "                   time_start='2021-01-01T00:00:00Z')"
   ]
  },
  {
   "cell_type": "code",
   "execution_count": 22,
   "id": "92db5e92-c067-45f9-95c7-84630b2512ae",
   "metadata": {},
   "outputs": [],
   "source": [
    "# with rasterio.open('https://esa-worldcover.s3.eu-central-1.amazonaws.com/v200/2021/map/ESA_WorldCover_10m_2021_v200_S18E135_Map.tif') as ds:\n",
    "#     tags = ds.tags()\n",
    "\n",
    "# tags"
   ]
  },
  {
   "cell_type": "markdown",
   "id": "c7b6139c-e912-42ba-8ac0-a350d87b4a43",
   "metadata": {},
   "source": [
    "# ESA 100 m World Cover"
   ]
  },
  {
   "cell_type": "code",
   "execution_count": 23,
   "id": "692a2356-f102-4209-aa4d-6868cf5f0215",
   "metadata": {},
   "outputs": [],
   "source": [
    "wc_100m_path =  work_dir / f'wc_100m.tif'"
   ]
  },
  {
   "cell_type": "code",
   "execution_count": 24,
   "id": "5f38568f-8569-4a3e-a8dd-cd7806f58a6f",
   "metadata": {},
   "outputs": [],
   "source": [
    "X_cop100, p_cop100 = get_raster_from_tiles(hls_bounds, \n",
    "                                           tile_shortname='cop_100_lulc_discrete',\n",
    "                                           year=2019)"
   ]
  },
  {
   "cell_type": "code",
   "execution_count": 25,
   "id": "b268ab02-499f-48d9-b222-f84c8a225be5",
   "metadata": {},
   "outputs": [],
   "source": [
    "with rasterio.open(wc_100m_path, 'w', **p_cop100) as ds:\n",
    "    ds.write(X_cop100)"
   ]
  },
  {
   "cell_type": "markdown",
   "id": "44317d7f-fdaf-4027-b5bd-05ba9135a524",
   "metadata": {},
   "source": [
    "## NOAA GSHHS\n",
    "\n",
    "Commented out because it's not necessary when ocean mapping is not applied."
   ]
  },
  {
   "cell_type": "code",
   "execution_count": 26,
   "id": "f0caf089-c890-4f33-ae59-6c250a20ce13",
   "metadata": {},
   "outputs": [],
   "source": [
    "# %%time\n",
    "\n",
    "# #coastline_url = 'http://www.soest.hawaii.edu/pwessel/gshhg/gshhg-shp-2.3.7.zip' # Source: https://www.soest.hawaii.edu/pwessel/gshhg/index.html\n",
    "# coastline_url = ('https://asf-dem-west.s3.us-west-2.amazonaws.com'\n",
    "#                  '/WATER_MASK/GSHHG/GSHHS_shp/f/GSHHS_f_L1.shp')\n",
    "\n",
    "# df = gpd.read_file(coastline_url, bbox=hls_bounds)\n",
    "# df.head()"
   ]
  },
  {
   "cell_type": "code",
   "execution_count": 27,
   "id": "35e80340-6830-4f63-86b8-214a6d0396f7",
   "metadata": {},
   "outputs": [],
   "source": [
    "# coastline_path = work_dir / 'gshhs_coastline'\n",
    "# coastline_path_shp = coastline_path / (coastline_path.stem + '.shp')"
   ]
  },
  {
   "cell_type": "code",
   "execution_count": 28,
   "id": "a0a745ee-7fa1-4690-b3af-d2513d5aa822",
   "metadata": {},
   "outputs": [],
   "source": [
    "# df.to_file(coastline_path)"
   ]
  },
  {
   "cell_type": "markdown",
   "id": "a4ef274b-1d20-480f-8396-c88c65254116",
   "metadata": {},
   "source": [
    "## Delete all the data from memory"
   ]
  },
  {
   "cell_type": "code",
   "execution_count": 29,
   "id": "f2cd4042-d53f-4fec-b647-3d9c63852f7b",
   "metadata": {},
   "outputs": [],
   "source": [
    "del dem\n",
    "# del df\n",
    "del X_cop100\n",
    "del X_esa_wc"
   ]
  },
  {
   "cell_type": "markdown",
   "id": "b9998b2b-3139-4c70-a6c0-013c79b50de7",
   "metadata": {},
   "source": [
    "# Run DSWx"
   ]
  },
  {
   "cell_type": "code",
   "execution_count": 30,
   "id": "c06842a4-3550-4df8-a10d-8ac5026cf976",
   "metadata": {},
   "outputs": [],
   "source": [
    "dswx_hls_runconfig_url = 'https://raw.githubusercontent.com/nasa/PROTEUS/main/src/proteus/defaults/dswx_hls.yaml'"
   ]
  },
  {
   "cell_type": "code",
   "execution_count": 31,
   "id": "80680edf-15de-43ee-8692-d838c4367250",
   "metadata": {},
   "outputs": [
    {
     "data": {
      "text/plain": [
       "{'runconfig': {'name': 'dswx_hls_workflow_default',\n",
       "  'groups': {'pge_name_group': {'pge_name': 'DSWX_HLS_PGE'},\n",
       "   'input_file_group': {'input_file_path': None},\n",
       "   'dynamic_ancillary_file_group': {'dem_file': None,\n",
       "    'dem_file_description': None,\n",
       "    'landcover_file': None,\n",
       "    'landcover_file_description': None,\n",
       "    'worldcover_file': None,\n",
       "    'worldcover_file_description': None,\n",
       "    'shoreline_shapefile': None,\n",
       "    'shoreline_shapefile_description': None},\n",
       "   'primary_executable': {'product_type': 'DSWX_HLS'},\n",
       "   'product_path_group': {'product_path': None,\n",
       "    'scratch_path': None,\n",
       "    'output_dir': None,\n",
       "    'product_id': None,\n",
       "    'product_version': None},\n",
       "   'processing': {'check_ancillary_inputs_coverage': True,\n",
       "    'apply_ocean_masking': False,\n",
       "    'apply_aerosol_class_remapping': True,\n",
       "    'aerosol_not_water_to_high_conf_water_fmask_values': [224, 160, 96],\n",
       "    'aerosol_water_moderate_conf_to_high_conf_water_fmask_values': [224,\n",
       "     160,\n",
       "     96],\n",
       "    'aerosol_partial_surface_water_conservative_to_high_conf_water_fmask_values': [224,\n",
       "     192,\n",
       "     160,\n",
       "     128,\n",
       "     96],\n",
       "    'aerosol_partial_surface_aggressive_to_high_conf_water_fmask_values': [224,\n",
       "     192,\n",
       "     160,\n",
       "     128,\n",
       "     96],\n",
       "    'shadow_masking_algorithm': 'sun_local_inc_angle',\n",
       "    'min_slope_angle': -5,\n",
       "    'max_sun_local_inc_angle': 40,\n",
       "    'mask_adjacent_to_cloud_mode': 'mask',\n",
       "    'forest_mask_landcover_classes': [20,\n",
       "     50,\n",
       "     111,\n",
       "     113,\n",
       "     115,\n",
       "     116,\n",
       "     121,\n",
       "     123,\n",
       "     125,\n",
       "     126],\n",
       "    'ocean_masking_shoreline_distance_km': 1,\n",
       "    'save_wtr': True,\n",
       "    'save_bwtr': True,\n",
       "    'save_conf': True,\n",
       "    'save_diag': True,\n",
       "    'save_wtr_1': True,\n",
       "    'save_wtr_2': True,\n",
       "    'save_land': True,\n",
       "    'save_shad': True,\n",
       "    'save_cloud': True,\n",
       "    'save_dem': True,\n",
       "    'save_rgb': False,\n",
       "    'save_infrared_rgb': False},\n",
       "   'browse_image_group': {'save_browse': True,\n",
       "    'browse_image_height': 1024,\n",
       "    'browse_image_width': 1024,\n",
       "    'exclude_psw_aggressive_in_browse': True,\n",
       "    'not_water_in_browse': 'white',\n",
       "    'cloud_in_browse': 'gray',\n",
       "    'snow_in_browse': 'cyan'},\n",
       "   'hls_thresholds': {'wigt': 0.124,\n",
       "    'awgt': 0.0,\n",
       "    'pswt_1_mndwi': -0.44,\n",
       "    'pswt_1_nir': 1500,\n",
       "    'pswt_1_swir1': 900,\n",
       "    'pswt_1_ndvi': 0.7,\n",
       "    'pswt_2_mndwi': -0.5,\n",
       "    'pswt_2_blue': 1000,\n",
       "    'pswt_2_nir': 2500,\n",
       "    'pswt_2_swir1': 3000,\n",
       "    'pswt_2_swir2': 1000,\n",
       "    'lcmask_nir': 1200}}}}"
      ]
     },
     "execution_count": 31,
     "metadata": {},
     "output_type": "execute_result"
    }
   ],
   "source": [
    "resp = requests.get(dswx_hls_runconfig_url)\n",
    "runconfig_dict = yaml.safe_load(resp.content)\n",
    "runconfig_dict"
   ]
  },
  {
   "cell_type": "code",
   "execution_count": 32,
   "id": "33b42573-f08c-4d67-923b-7d101dafa83c",
   "metadata": {},
   "outputs": [
    {
     "data": {
      "text/plain": [
       "{'wigt': 0.124,\n",
       " 'awgt': 0.0,\n",
       " 'pswt_1_mndwi': -0.44,\n",
       " 'pswt_1_nir': 1500,\n",
       " 'pswt_1_swir1': 900,\n",
       " 'pswt_1_ndvi': 0.7,\n",
       " 'pswt_2_mndwi': -0.5,\n",
       " 'pswt_2_blue': 1000,\n",
       " 'pswt_2_nir': 2500,\n",
       " 'pswt_2_swir1': 3000,\n",
       " 'pswt_2_swir2': 1000,\n",
       " 'lcmask_nir': 1200}"
      ]
     },
     "execution_count": 32,
     "metadata": {},
     "output_type": "execute_result"
    }
   ],
   "source": [
    "input_directory = str(hls_paths_filtered[0].parent.resolve())\n",
    "hls_threshold = runconfig_dict['runconfig']['groups']['hls_thresholds']\n",
    "hls_threshold"
   ]
  },
  {
   "cell_type": "code",
   "execution_count": 33,
   "id": "f28588ab-3630-4d10-81d2-07235f4b808f",
   "metadata": {},
   "outputs": [
    {
     "data": {
      "text/plain": [
       "['/Users/cmarshak/bekaert-team/dswx-hls-pst-workflow/work/HLS.S30.T53KMA.2021258T011731.v2.0/HLS.S30.T53KMA.2021258T011731.v2.0/HLS.S30.T53KMA.2021258T011731.v2.0.B01.tif',\n",
       " '/Users/cmarshak/bekaert-team/dswx-hls-pst-workflow/work/HLS.S30.T53KMA.2021258T011731.v2.0/HLS.S30.T53KMA.2021258T011731.v2.0/HLS.S30.T53KMA.2021258T011731.v2.0.B02.tif']"
      ]
     },
     "execution_count": 33,
     "metadata": {},
     "output_type": "execute_result"
    }
   ],
   "source": [
    "hls_paths_str = [str(p.resolve()) for p in sorted(hls_paths_filtered)]\n",
    "hls_paths_str[:2]"
   ]
  },
  {
   "cell_type": "code",
   "execution_count": 34,
   "id": "0a457a35-2df9-4dd7-9466-0d40b9040f6e",
   "metadata": {},
   "outputs": [],
   "source": [
    "runconfig_dict['runconfig']['groups']['processing']['apply_aerosol_class_remapping'] = AEROSOL_PARAM"
   ]
  },
  {
   "cell_type": "code",
   "execution_count": 35,
   "id": "273d676f-8460-466c-9fe0-7f7fce0131bc",
   "metadata": {},
   "outputs": [
    {
     "data": {
      "text/plain": [
       "'[/Users/cmarshak/bekaert-team/dswx-hls-pst-workflow/work/HLS.S30.T53KMA.2021258T011731.v2.0/HLS.S30.T53KMA.2021258T011731.v2.0]'"
      ]
     },
     "execution_count": 35,
     "metadata": {},
     "output_type": "execute_result"
    }
   ],
   "source": [
    "s = str([str(hls_paths[0].parent.resolve())]).replace(\"'\", \"\")\n",
    "s"
   ]
  },
  {
   "cell_type": "code",
   "execution_count": 36,
   "id": "6582791c-31fd-4f2a-a06a-2223e0896e80",
   "metadata": {},
   "outputs": [],
   "source": [
    "runconfig_dict['runconfig']['groups']['input_file_group']['input_file_path'] = hls_paths_str# [str(hls_paths_filtered[0].parent.resolve())]\n",
    "runconfig_dict['runconfig']['groups']['dynamic_ancillary_file_group']['dem_file'] = str(dem_path.resolve())\n",
    "runconfig_dict['runconfig']['groups']['dynamic_ancillary_file_group']['landcover_file'] = str(wc_100m_path.resolve())\n",
    "runconfig_dict['runconfig']['groups']['dynamic_ancillary_file_group']['worldcover_file'] = str(wc_10m_path.resolve())\n",
    "#runconfig_dict['runconfig']['groups']['dynamic_ancillary_file_group']['worldcover_file_description'] = '2021'\n",
    "\n",
    "#runconfig_dict['runconfig']['groups']['dynamic_ancillary_file_group']['shoreline_shapefile'] = str(coastline_path_shp.resolve())"
   ]
  },
  {
   "cell_type": "code",
   "execution_count": 37,
   "id": "fdacbb36-ec9f-4a9e-ad00-f030501097f9",
   "metadata": {
    "slideshow": {
     "slide_type": ""
    },
    "tags": []
   },
   "outputs": [],
   "source": [
    "product_path = work_dir / 'product'\n",
    "scratch_path = work_dir / 'scratch'\n",
    "\n",
    "runconfig_dict['runconfig']['groups']['product_path_group']['product_path'] = str(product_path.resolve())\n",
    "runconfig_dict['runconfig']['groups']['product_path_group']['scratch_path'] = str(scratch_path.resolve())\n",
    "runconfig_dict['runconfig']['groups']['product_path_group']['product_version'] = product_version\n",
    "runconfig_dict['runconfig']['groups']['product_path_group']['product_id'] = dswx_id\n",
    "runconfig_dict['runconfig']['groups']['product_path_group']['output_dir'] = str(output_dir)"
   ]
  },
  {
   "cell_type": "code",
   "execution_count": 38,
   "id": "83d3edfa-98b1-456e-a48a-5516a1f17378",
   "metadata": {},
   "outputs": [],
   "source": [
    "runconfig_path = work_dir/ 'runconfig.yaml'\n",
    "with open(runconfig_path, 'w') as f:\n",
    "    yaml.safe_dump(runconfig_dict, f, default_flow_style=False)"
   ]
  },
  {
   "cell_type": "markdown",
   "id": "8380f06f-9b63-4e8d-836a-211f428c12bd",
   "metadata": {},
   "source": [
    "We use [this](https://github.com/nasa/PROTEUS/blob/main/tests/test_dswx_hls_workflow.py) to get python error-handling. Still a little opaque with runconfig ingestion, but the args should be readable."
   ]
  },
  {
   "cell_type": "code",
   "execution_count": 39,
   "id": "7cfcae20-12e7-4a7d-b3bf-a5e6d67230dd",
   "metadata": {},
   "outputs": [
    {
     "data": {
      "text/plain": [
       "{'input_list': ['/Users/cmarshak/bekaert-team/dswx-hls-pst-workflow/work/HLS.S30.T53KMA.2021258T011731.v2.0/HLS.S30.T53KMA.2021258T011731.v2.0/HLS.S30.T53KMA.2021258T011731.v2.0.B01.tif',\n",
       "  '/Users/cmarshak/bekaert-team/dswx-hls-pst-workflow/work/HLS.S30.T53KMA.2021258T011731.v2.0/HLS.S30.T53KMA.2021258T011731.v2.0/HLS.S30.T53KMA.2021258T011731.v2.0.B02.tif',\n",
       "  '/Users/cmarshak/bekaert-team/dswx-hls-pst-workflow/work/HLS.S30.T53KMA.2021258T011731.v2.0/HLS.S30.T53KMA.2021258T011731.v2.0/HLS.S30.T53KMA.2021258T011731.v2.0.B03.tif',\n",
       "  '/Users/cmarshak/bekaert-team/dswx-hls-pst-workflow/work/HLS.S30.T53KMA.2021258T011731.v2.0/HLS.S30.T53KMA.2021258T011731.v2.0/HLS.S30.T53KMA.2021258T011731.v2.0.B04.tif',\n",
       "  '/Users/cmarshak/bekaert-team/dswx-hls-pst-workflow/work/HLS.S30.T53KMA.2021258T011731.v2.0/HLS.S30.T53KMA.2021258T011731.v2.0/HLS.S30.T53KMA.2021258T011731.v2.0.B05.tif',\n",
       "  '/Users/cmarshak/bekaert-team/dswx-hls-pst-workflow/work/HLS.S30.T53KMA.2021258T011731.v2.0/HLS.S30.T53KMA.2021258T011731.v2.0/HLS.S30.T53KMA.2021258T011731.v2.0.B06.tif',\n",
       "  '/Users/cmarshak/bekaert-team/dswx-hls-pst-workflow/work/HLS.S30.T53KMA.2021258T011731.v2.0/HLS.S30.T53KMA.2021258T011731.v2.0/HLS.S30.T53KMA.2021258T011731.v2.0.B07.tif',\n",
       "  '/Users/cmarshak/bekaert-team/dswx-hls-pst-workflow/work/HLS.S30.T53KMA.2021258T011731.v2.0/HLS.S30.T53KMA.2021258T011731.v2.0/HLS.S30.T53KMA.2021258T011731.v2.0.B08.tif',\n",
       "  '/Users/cmarshak/bekaert-team/dswx-hls-pst-workflow/work/HLS.S30.T53KMA.2021258T011731.v2.0/HLS.S30.T53KMA.2021258T011731.v2.0/HLS.S30.T53KMA.2021258T011731.v2.0.B09.tif',\n",
       "  '/Users/cmarshak/bekaert-team/dswx-hls-pst-workflow/work/HLS.S30.T53KMA.2021258T011731.v2.0/HLS.S30.T53KMA.2021258T011731.v2.0/HLS.S30.T53KMA.2021258T011731.v2.0.B10.tif',\n",
       "  '/Users/cmarshak/bekaert-team/dswx-hls-pst-workflow/work/HLS.S30.T53KMA.2021258T011731.v2.0/HLS.S30.T53KMA.2021258T011731.v2.0/HLS.S30.T53KMA.2021258T011731.v2.0.B11.tif',\n",
       "  '/Users/cmarshak/bekaert-team/dswx-hls-pst-workflow/work/HLS.S30.T53KMA.2021258T011731.v2.0/HLS.S30.T53KMA.2021258T011731.v2.0/HLS.S30.T53KMA.2021258T011731.v2.0.B12.tif',\n",
       "  '/Users/cmarshak/bekaert-team/dswx-hls-pst-workflow/work/HLS.S30.T53KMA.2021258T011731.v2.0/HLS.S30.T53KMA.2021258T011731.v2.0/HLS.S30.T53KMA.2021258T011731.v2.0.B8A.tif',\n",
       "  '/Users/cmarshak/bekaert-team/dswx-hls-pst-workflow/work/HLS.S30.T53KMA.2021258T011731.v2.0/HLS.S30.T53KMA.2021258T011731.v2.0/HLS.S30.T53KMA.2021258T011731.v2.0.Fmask.tif',\n",
       "  '/Users/cmarshak/bekaert-team/dswx-hls-pst-workflow/work/HLS.S30.T53KMA.2021258T011731.v2.0/HLS.S30.T53KMA.2021258T011731.v2.0/HLS.S30.T53KMA.2021258T011731.v2.0.SAA.tif',\n",
       "  '/Users/cmarshak/bekaert-team/dswx-hls-pst-workflow/work/HLS.S30.T53KMA.2021258T011731.v2.0/HLS.S30.T53KMA.2021258T011731.v2.0/HLS.S30.T53KMA.2021258T011731.v2.0.SZA.tif',\n",
       "  '/Users/cmarshak/bekaert-team/dswx-hls-pst-workflow/work/HLS.S30.T53KMA.2021258T011731.v2.0/HLS.S30.T53KMA.2021258T011731.v2.0/HLS.S30.T53KMA.2021258T011731.v2.0.VAA.tif',\n",
       "  '/Users/cmarshak/bekaert-team/dswx-hls-pst-workflow/work/HLS.S30.T53KMA.2021258T011731.v2.0/HLS.S30.T53KMA.2021258T011731.v2.0/HLS.S30.T53KMA.2021258T011731.v2.0.VZA.tif'],\n",
       " 'dem_file': '/Users/cmarshak/bekaert-team/dswx-hls-pst-workflow/work/HLS.S30.T53KMA.2021258T011731.v2.0/glo_30.tif',\n",
       " 'dem_file_description': None,\n",
       " 'landcover_file': '/Users/cmarshak/bekaert-team/dswx-hls-pst-workflow/work/HLS.S30.T53KMA.2021258T011731.v2.0/wc_100m.tif',\n",
       " 'landcover_file_description': None,\n",
       " 'worldcover_file': '/Users/cmarshak/bekaert-team/dswx-hls-pst-workflow/work/HLS.S30.T53KMA.2021258T011731.v2.0/wc_10m.tif',\n",
       " 'worldcover_file_description': None,\n",
       " 'shoreline_shapefile': None,\n",
       " 'shoreline_shapefile_description': None,\n",
       " 'output_file': None,\n",
       " 'output_interpreted_band': 'out/OPERA_L3_DSWx-HLS_T53KMA_20210915T011731Z_202401091018Z_1.0/OPERA_L3_DSWx-HLS_T53KMA_20210915T011731Z_202401091018Z_v1.0_B01_WTR.tif',\n",
       " 'output_rgb_file': None,\n",
       " 'output_infrared_rgb_file': None,\n",
       " 'output_binary_water': 'out/OPERA_L3_DSWx-HLS_T53KMA_20210915T011731Z_202401091018Z_1.0/OPERA_L3_DSWx-HLS_T53KMA_20210915T011731Z_202401091018Z_v1.0_B02_BWTR.tif',\n",
       " 'output_confidence_layer': 'out/OPERA_L3_DSWx-HLS_T53KMA_20210915T011731Z_202401091018Z_1.0/OPERA_L3_DSWx-HLS_T53KMA_20210915T011731Z_202401091018Z_v1.0_B03_CONF.tif',\n",
       " 'output_diagnostic_layer': 'out/OPERA_L3_DSWx-HLS_T53KMA_20210915T011731Z_202401091018Z_1.0/OPERA_L3_DSWx-HLS_T53KMA_20210915T011731Z_202401091018Z_v1.0_B04_DIAG.tif',\n",
       " 'output_non_masked_dswx': 'out/OPERA_L3_DSWx-HLS_T53KMA_20210915T011731Z_202401091018Z_1.0/OPERA_L3_DSWx-HLS_T53KMA_20210915T011731Z_202401091018Z_v1.0_B05_WTR-1.tif',\n",
       " 'output_shadow_masked_dswx': 'out/OPERA_L3_DSWx-HLS_T53KMA_20210915T011731Z_202401091018Z_1.0/OPERA_L3_DSWx-HLS_T53KMA_20210915T011731Z_202401091018Z_v1.0_B06_WTR-2.tif',\n",
       " 'output_landcover': 'out/OPERA_L3_DSWx-HLS_T53KMA_20210915T011731Z_202401091018Z_1.0/OPERA_L3_DSWx-HLS_T53KMA_20210915T011731Z_202401091018Z_v1.0_B07_LAND.tif',\n",
       " 'output_shadow_layer': 'out/OPERA_L3_DSWx-HLS_T53KMA_20210915T011731Z_202401091018Z_1.0/OPERA_L3_DSWx-HLS_T53KMA_20210915T011731Z_202401091018Z_v1.0_B08_SHAD.tif',\n",
       " 'output_cloud_layer': 'out/OPERA_L3_DSWx-HLS_T53KMA_20210915T011731Z_202401091018Z_1.0/OPERA_L3_DSWx-HLS_T53KMA_20210915T011731Z_202401091018Z_v1.0_B09_CLOUD.tif',\n",
       " 'output_dem_layer': 'out/OPERA_L3_DSWx-HLS_T53KMA_20210915T011731Z_202401091018Z_1.0/OPERA_L3_DSWx-HLS_T53KMA_20210915T011731Z_202401091018Z_v1.0_B10_DEM.tif',\n",
       " 'output_browse_image': 'out/OPERA_L3_DSWx-HLS_T53KMA_20210915T011731Z_202401091018Z_1.0/OPERA_L3_DSWx-HLS_T53KMA_20210915T011731Z_202401091018Z_v1.0_BROWSE.png',\n",
       " 'browse_image_height': 1024,\n",
       " 'browse_image_width': 1024,\n",
       " 'exclude_psw_aggressive_in_browse': True,\n",
       " 'not_water_in_browse': 'white',\n",
       " 'cloud_in_browse': 'gray',\n",
       " 'snow_in_browse': 'cyan',\n",
       " 'flag_offset_and_scale_inputs': False,\n",
       " 'scratch_dir': '/Users/cmarshak/bekaert-team/dswx-hls-pst-workflow/work/HLS.S30.T53KMA.2021258T011731.v2.0/scratch',\n",
       " 'product_id': 'OPERA_L3_DSWx-HLS_T53KMA_20210915T011731Z_202401091018Z',\n",
       " 'product_version': '1.0',\n",
       " 'check_ancillary_inputs_coverage': True,\n",
       " 'apply_ocean_masking': False,\n",
       " 'apply_aerosol_class_remapping': True,\n",
       " 'shadow_masking_algorithm': 'sun_local_inc_angle',\n",
       " 'min_slope_angle': -5,\n",
       " 'max_sun_local_inc_angle': 40,\n",
       " 'mask_adjacent_to_cloud_mode': 'mask',\n",
       " 'forest_mask_landcover_classes': [20,\n",
       "  50,\n",
       "  111,\n",
       "  113,\n",
       "  115,\n",
       "  116,\n",
       "  121,\n",
       "  123,\n",
       "  125,\n",
       "  126],\n",
       " 'ocean_masking_shoreline_distance_km': 1,\n",
       " 'flag_debug': False,\n",
       " 'log_file': None,\n",
       " 'full_log_formatting': False,\n",
       " 'aerosol_not_water_to_high_conf_water_fmask_values': [224, 160, 96],\n",
       " 'aerosol_water_moderate_conf_to_high_conf_water_fmask_values': [224, 160, 96],\n",
       " 'aerosol_partial_surface_water_conservative_to_high_conf_water_fmask_values': [224,\n",
       "  192,\n",
       "  160,\n",
       "  128,\n",
       "  96],\n",
       " 'aerosol_partial_surface_aggressive_to_high_conf_water_fmask_values': [224,\n",
       "  192,\n",
       "  160,\n",
       "  128,\n",
       "  96]}"
      ]
     },
     "execution_count": 39,
     "metadata": {},
     "output_type": "execute_result"
    }
   ],
   "source": [
    "parser = get_dswx_hls_cli_parser()\n",
    "args = parser.parse_args([f'{input_directory}'])\n",
    "runconfig_constants = parse_runconfig_file(user_runconfig_file=str(runconfig_path.resolve()), \n",
    "                                           args=args)\n",
    "args.__dict__"
   ]
  },
  {
   "cell_type": "code",
   "execution_count": 40,
   "id": "2550e942-692d-4717-a48b-c60a701e5837",
   "metadata": {},
   "outputs": [
    {
     "data": {
      "text/plain": [
       "(['/Users/cmarshak/bekaert-team/dswx-hls-pst-workflow/work/HLS.S30.T53KMA.2021258T011731.v2.0/HLS.S30.T53KMA.2021258T011731.v2.0/HLS.S30.T53KMA.2021258T011731.v2.0.B01.tif',\n",
       "  '/Users/cmarshak/bekaert-team/dswx-hls-pst-workflow/work/HLS.S30.T53KMA.2021258T011731.v2.0/HLS.S30.T53KMA.2021258T011731.v2.0/HLS.S30.T53KMA.2021258T011731.v2.0.B02.tif',\n",
       "  '/Users/cmarshak/bekaert-team/dswx-hls-pst-workflow/work/HLS.S30.T53KMA.2021258T011731.v2.0/HLS.S30.T53KMA.2021258T011731.v2.0/HLS.S30.T53KMA.2021258T011731.v2.0.B03.tif',\n",
       "  '/Users/cmarshak/bekaert-team/dswx-hls-pst-workflow/work/HLS.S30.T53KMA.2021258T011731.v2.0/HLS.S30.T53KMA.2021258T011731.v2.0/HLS.S30.T53KMA.2021258T011731.v2.0.B04.tif',\n",
       "  '/Users/cmarshak/bekaert-team/dswx-hls-pst-workflow/work/HLS.S30.T53KMA.2021258T011731.v2.0/HLS.S30.T53KMA.2021258T011731.v2.0/HLS.S30.T53KMA.2021258T011731.v2.0.B05.tif',\n",
       "  '/Users/cmarshak/bekaert-team/dswx-hls-pst-workflow/work/HLS.S30.T53KMA.2021258T011731.v2.0/HLS.S30.T53KMA.2021258T011731.v2.0/HLS.S30.T53KMA.2021258T011731.v2.0.B06.tif',\n",
       "  '/Users/cmarshak/bekaert-team/dswx-hls-pst-workflow/work/HLS.S30.T53KMA.2021258T011731.v2.0/HLS.S30.T53KMA.2021258T011731.v2.0/HLS.S30.T53KMA.2021258T011731.v2.0.B07.tif',\n",
       "  '/Users/cmarshak/bekaert-team/dswx-hls-pst-workflow/work/HLS.S30.T53KMA.2021258T011731.v2.0/HLS.S30.T53KMA.2021258T011731.v2.0/HLS.S30.T53KMA.2021258T011731.v2.0.B08.tif',\n",
       "  '/Users/cmarshak/bekaert-team/dswx-hls-pst-workflow/work/HLS.S30.T53KMA.2021258T011731.v2.0/HLS.S30.T53KMA.2021258T011731.v2.0/HLS.S30.T53KMA.2021258T011731.v2.0.B09.tif',\n",
       "  '/Users/cmarshak/bekaert-team/dswx-hls-pst-workflow/work/HLS.S30.T53KMA.2021258T011731.v2.0/HLS.S30.T53KMA.2021258T011731.v2.0/HLS.S30.T53KMA.2021258T011731.v2.0.B10.tif',\n",
       "  '/Users/cmarshak/bekaert-team/dswx-hls-pst-workflow/work/HLS.S30.T53KMA.2021258T011731.v2.0/HLS.S30.T53KMA.2021258T011731.v2.0/HLS.S30.T53KMA.2021258T011731.v2.0.B11.tif',\n",
       "  '/Users/cmarshak/bekaert-team/dswx-hls-pst-workflow/work/HLS.S30.T53KMA.2021258T011731.v2.0/HLS.S30.T53KMA.2021258T011731.v2.0/HLS.S30.T53KMA.2021258T011731.v2.0.B12.tif',\n",
       "  '/Users/cmarshak/bekaert-team/dswx-hls-pst-workflow/work/HLS.S30.T53KMA.2021258T011731.v2.0/HLS.S30.T53KMA.2021258T011731.v2.0/HLS.S30.T53KMA.2021258T011731.v2.0.B8A.tif',\n",
       "  '/Users/cmarshak/bekaert-team/dswx-hls-pst-workflow/work/HLS.S30.T53KMA.2021258T011731.v2.0/HLS.S30.T53KMA.2021258T011731.v2.0/HLS.S30.T53KMA.2021258T011731.v2.0.Fmask.tif',\n",
       "  '/Users/cmarshak/bekaert-team/dswx-hls-pst-workflow/work/HLS.S30.T53KMA.2021258T011731.v2.0/HLS.S30.T53KMA.2021258T011731.v2.0/HLS.S30.T53KMA.2021258T011731.v2.0.SAA.tif',\n",
       "  '/Users/cmarshak/bekaert-team/dswx-hls-pst-workflow/work/HLS.S30.T53KMA.2021258T011731.v2.0/HLS.S30.T53KMA.2021258T011731.v2.0/HLS.S30.T53KMA.2021258T011731.v2.0.SZA.tif',\n",
       "  '/Users/cmarshak/bekaert-team/dswx-hls-pst-workflow/work/HLS.S30.T53KMA.2021258T011731.v2.0/HLS.S30.T53KMA.2021258T011731.v2.0/HLS.S30.T53KMA.2021258T011731.v2.0.VAA.tif',\n",
       "  '/Users/cmarshak/bekaert-team/dswx-hls-pst-workflow/work/HLS.S30.T53KMA.2021258T011731.v2.0/HLS.S30.T53KMA.2021258T011731.v2.0/HLS.S30.T53KMA.2021258T011731.v2.0.VZA.tif'],\n",
       " [20, 50, 111, 113, 115, 116, 121, 123, 125, 126],\n",
       " True,\n",
       " 'out/OPERA_L3_DSWx-HLS_T53KMA_20210915T011731Z_202401091018Z_1.0/OPERA_L3_DSWx-HLS_T53KMA_20210915T011731Z_202401091018Z_v1.0_B05_WTR-1.tif',\n",
       " '/Users/cmarshak/bekaert-team/dswx-hls-pst-workflow/work/HLS.S30.T53KMA.2021258T011731.v2.0/wc_100m.tif',\n",
       " 'out/OPERA_L3_DSWx-HLS_T53KMA_20210915T011731Z_202401091018Z_1.0/OPERA_L3_DSWx-HLS_T53KMA_20210915T011731Z_202401091018Z_v1.0_B07_LAND.tif')"
      ]
     },
     "execution_count": 40,
     "metadata": {},
     "output_type": "execute_result"
    }
   ],
   "source": [
    "(args.input_list,\n",
    "args.forest_mask_landcover_classes, \n",
    "args.apply_aerosol_class_remapping, \n",
    "args.output_non_masked_dswx, \n",
    "args.landcover_file, \n",
    "args.output_landcover)"
   ]
  },
  {
   "cell_type": "code",
   "execution_count": 41,
   "id": "965bae94-f50d-4e7a-9d16-96a216264995",
   "metadata": {},
   "outputs": [
    {
     "name": "stderr",
     "output_type": "stream",
     "text": [
      "/Users/cmarshak/mambaforge/envs/dswx_hls_generation/lib/python3.11/site-packages/osgeo/gdal.py:312: FutureWarning: Neither gdal.UseExceptions() nor gdal.DontUseExceptions() has been explicitly called. In GDAL 4.0, exceptions will be enabled by default.\n",
      "  warnings.warn(\n"
     ]
    },
    {
     "name": "stdout",
     "output_type": "stream",
     "text": [
      "0...10...20...30...40...50...60...70...80...90...out/OPERA_L3_DSWx-HLS_T53KMA_20210915T011731Z_202401091018Z_1.0/OPERA_L3_DSWx-HLS_T53KMA_20210915T011731Z_202401091018Z_v1.0_B10_DEM.tif is a valid cloud optimized GeoTIFF\n",
      "\n",
      "The size of all IFD headers is 4778 bytes\n",
      "100 - done.\n",
      "0...10...20...30...40...50...60...70...80...90...out/OPERA_L3_DSWx-HLS_T53KMA_20210915T011731Z_202401091018Z_1.0/OPERA_L3_DSWx-HLS_T53KMA_20210915T011731Z_202401091018Z_v1.0_B08_SHAD.tif is a valid cloud optimized GeoTIFF\n",
      "\n",
      "The size of all IFD headers is 12456 bytes\n"
     ]
    },
    {
     "name": "stderr",
     "output_type": "stream",
     "text": [
      "ERROR 1: TIFFSetField:out/OPERA_L3_DSWx-HLS_T53KMA_20210915T011731Z_202401091018Z_1.0/OPERA_L3_DSWx-HLS_T53KMA_20210915T011731Z_202401091018Z_v1.0_B08_SHAD.tif: Cannot modify tag \"PhotometricInterpretation\" while writing\n",
      "ERROR 1: TIFFSetField:out/OPERA_L3_DSWx-HLS_T53KMA_20210915T011731Z_202401091018Z_1.0/OPERA_L3_DSWx-HLS_T53KMA_20210915T011731Z_202401091018Z_v1.0_B07_LAND.tif: Cannot modify tag \"PhotometricInterpretation\" while writing\n"
     ]
    },
    {
     "name": "stdout",
     "output_type": "stream",
     "text": [
      "100 - done.\n",
      "0...10...20...30...40...50...60...70...80...90...out/OPERA_L3_DSWx-HLS_T53KMA_20210915T011731Z_202401091018Z_1.0/OPERA_L3_DSWx-HLS_T53KMA_20210915T011731Z_202401091018Z_v1.0_B07_LAND.tif is a valid cloud optimized GeoTIFF\n",
      "\n",
      "The size of all IFD headers is 12520 bytes\n",
      "100 - done.\n",
      "0...10...20...30...40...50...60...70...80...90...out/OPERA_L3_DSWx-HLS_T53KMA_20210915T011731Z_202401091018Z_1.0/OPERA_L3_DSWx-HLS_T53KMA_20210915T011731Z_202401091018Z_v1.0_B04_DIAG.tif is a valid cloud optimized GeoTIFF\n",
      "\n",
      "The size of all IFD headers is 4802 bytes\n",
      "100 - done.\n",
      "0...10...20...30...40...50...60...70...80...90...out/OPERA_L3_DSWx-HLS_T53KMA_20210915T011731Z_202401091018Z_1.0/OPERA_L3_DSWx-HLS_T53KMA_20210915T011731Z_202401091018Z_v1.0_B05_WTR-1.tif is a valid cloud optimized GeoTIFF\n",
      "\n",
      "The size of all IFD headers is 12550 bytes\n"
     ]
    },
    {
     "name": "stderr",
     "output_type": "stream",
     "text": [
      "ERROR 1: TIFFSetField:out/OPERA_L3_DSWx-HLS_T53KMA_20210915T011731Z_202401091018Z_1.0/OPERA_L3_DSWx-HLS_T53KMA_20210915T011731Z_202401091018Z_v1.0_B05_WTR-1.tif: Cannot modify tag \"PhotometricInterpretation\" while writing\n",
      "ERROR 1: TIFFSetField:out/OPERA_L3_DSWx-HLS_T53KMA_20210915T011731Z_202401091018Z_1.0/OPERA_L3_DSWx-HLS_T53KMA_20210915T011731Z_202401091018Z_v1.0_B06_WTR-2.tif: Cannot modify tag \"PhotometricInterpretation\" while writing\n",
      "ERROR 1: TIFFSetField:out/OPERA_L3_DSWx-HLS_T53KMA_20210915T011731Z_202401091018Z_1.0/OPERA_L3_DSWx-HLS_T53KMA_20210915T011731Z_202401091018Z_v1.0_B01_WTR.tif: Cannot modify tag \"PhotometricInterpretation\" while writing\n",
      "ERROR 1: TIFFSetField:out/OPERA_L3_DSWx-HLS_T53KMA_20210915T011731Z_202401091018Z_1.0/OPERA_L3_DSWx-HLS_T53KMA_20210915T011731Z_202401091018Z_v1.0_BROWSE.tif: Cannot modify tag \"PhotometricInterpretation\" while writing\n"
     ]
    },
    {
     "name": "stdout",
     "output_type": "stream",
     "text": [
      "100 - done.\n",
      "0...10...20...30...40...50...60...70...80...90...out/OPERA_L3_DSWx-HLS_T53KMA_20210915T011731Z_202401091018Z_1.0/OPERA_L3_DSWx-HLS_T53KMA_20210915T011731Z_202401091018Z_v1.0_B06_WTR-2.tif is a valid cloud optimized GeoTIFF\n",
      "\n",
      "The size of all IFD headers is 12566 bytes\n",
      "100 - done.\n",
      "0...10...20...30...40...50...60...70...80...90...out/OPERA_L3_DSWx-HLS_T53KMA_20210915T011731Z_202401091018Z_1.0/OPERA_L3_DSWx-HLS_T53KMA_20210915T011731Z_202401091018Z_v1.0_B01_WTR.tif is a valid cloud optimized GeoTIFF\n",
      "\n",
      "The size of all IFD headers is 12514 bytes\n",
      "100 - done.\n",
      "0...10...20...30...40...50...60...70...80...90...out/OPERA_L3_DSWx-HLS_T53KMA_20210915T011731Z_202401091018Z_1.0/OPERA_L3_DSWx-HLS_T53KMA_20210915T011731Z_202401091018Z_v1.0_BROWSE.tif is a valid cloud optimized GeoTIFF\n",
      "\n",
      "The size of all IFD headers is 12424 bytes\n",
      "100 - done.\n",
      "0...10...20...30...40...50...60...70...80...90...out/OPERA_L3_DSWx-HLS_T53KMA_20210915T011731Z_202401091018Z_1.0/OPERA_L3_DSWx-HLS_T53KMA_20210915T011731Z_202401091018Z_v1.0_B09_CLOUD.tif is a valid cloud optimized GeoTIFF\n",
      "\n",
      "The size of all IFD headers is 12546 bytes\n",
      "100 - done.\n",
      "0...10...20...30...40...50...60...70...80...90..."
     ]
    },
    {
     "name": "stderr",
     "output_type": "stream",
     "text": [
      "ERROR 1: TIFFSetField:out/OPERA_L3_DSWx-HLS_T53KMA_20210915T011731Z_202401091018Z_1.0/OPERA_L3_DSWx-HLS_T53KMA_20210915T011731Z_202401091018Z_v1.0_B09_CLOUD.tif: Cannot modify tag \"PhotometricInterpretation\" while writing\n",
      "ERROR 1: TIFFSetField:out/OPERA_L3_DSWx-HLS_T53KMA_20210915T011731Z_202401091018Z_1.0/OPERA_L3_DSWx-HLS_T53KMA_20210915T011731Z_202401091018Z_v1.0_B02_BWTR.tif: Cannot modify tag \"PhotometricInterpretation\" while writing\n",
      "ERROR 1: TIFFSetField:out/OPERA_L3_DSWx-HLS_T53KMA_20210915T011731Z_202401091018Z_1.0/OPERA_L3_DSWx-HLS_T53KMA_20210915T011731Z_202401091018Z_v1.0_B03_CONF.tif: Cannot modify tag \"PhotometricInterpretation\" while writing\n"
     ]
    },
    {
     "name": "stdout",
     "output_type": "stream",
     "text": [
      "out/OPERA_L3_DSWx-HLS_T53KMA_20210915T011731Z_202401091018Z_1.0/OPERA_L3_DSWx-HLS_T53KMA_20210915T011731Z_202401091018Z_v1.0_B02_BWTR.tif is a valid cloud optimized GeoTIFF\n",
      "\n",
      "The size of all IFD headers is 12508 bytes\n",
      "100 - done.\n",
      "0...10...20...30...40...50...60...70...80...90...out/OPERA_L3_DSWx-HLS_T53KMA_20210915T011731Z_202401091018Z_1.0/OPERA_L3_DSWx-HLS_T53KMA_20210915T011731Z_202401091018Z_v1.0_B03_CONF.tif is a valid cloud optimized GeoTIFF\n",
      "\n",
      "The size of all IFD headers is 12520 bytes\n"
     ]
    },
    {
     "data": {
      "text/plain": [
       "True"
      ]
     },
     "execution_count": 41,
     "metadata": {},
     "output_type": "execute_result"
    }
   ],
   "source": [
    "generate_dswx_layers(\n",
    "        args.input_list,\n",
    "        args.output_file,\n",
    "        hls_thresholds = runconfig_constants.hls_thresholds,\n",
    "        dem_file=args.dem_file,\n",
    "        dem_file_description=args.dem_file_description,\n",
    "        output_interpreted_band=args.output_interpreted_band,\n",
    "        output_rgb_file=args.output_rgb_file,\n",
    "        output_infrared_rgb_file=args.output_infrared_rgb_file,\n",
    "        output_binary_water=args.output_binary_water,\n",
    "        output_confidence_layer=args.output_confidence_layer,\n",
    "        output_diagnostic_layer=args.output_diagnostic_layer,\n",
    "        output_non_masked_dswx=args.output_non_masked_dswx,\n",
    "        output_shadow_masked_dswx=args.output_shadow_masked_dswx,\n",
    "        output_landcover=args.output_landcover,\n",
    "        output_shadow_layer=args.output_shadow_layer,\n",
    "        output_cloud_layer=args.output_cloud_layer,\n",
    "        output_dem_layer=args.output_dem_layer,\n",
    "        output_browse_image=args.output_browse_image,\n",
    "        browse_image_height=args.browse_image_height,\n",
    "        browse_image_width=args.browse_image_width,\n",
    "        exclude_psw_aggressive_in_browse=args.exclude_psw_aggressive_in_browse,\n",
    "        not_water_in_browse=args.not_water_in_browse,\n",
    "        cloud_in_browse=args.cloud_in_browse,\n",
    "        snow_in_browse=args.snow_in_browse,\n",
    "        landcover_file=args.landcover_file,\n",
    "        landcover_file_description=args.landcover_file_description,\n",
    "        worldcover_file=args.worldcover_file,\n",
    "        worldcover_file_description=args.worldcover_file_description,\n",
    "        shoreline_shapefile=args.shoreline_shapefile,\n",
    "        shoreline_shapefile_description=args.shoreline_shapefile_description,\n",
    "        flag_offset_and_scale_inputs=args.flag_offset_and_scale_inputs,\n",
    "        scratch_dir=args.scratch_dir,\n",
    "        product_id=args.product_id,\n",
    "        product_version=args.product_version,\n",
    "        check_ancillary_inputs_coverage=args.check_ancillary_inputs_coverage,\n",
    "        apply_ocean_masking=args.apply_ocean_masking,\n",
    "        apply_aerosol_class_remapping=args.apply_aerosol_class_remapping,\n",
    "        aerosol_not_water_to_high_conf_water_fmask_values =\n",
    "            args.aerosol_not_water_to_high_conf_water_fmask_values,\n",
    "        aerosol_water_moderate_conf_to_high_conf_water_fmask_values =\n",
    "            args.aerosol_water_moderate_conf_to_high_conf_water_fmask_values,\n",
    "        aerosol_partial_surface_water_conservative_to_high_conf_water_fmask_values =\n",
    "            args.aerosol_partial_surface_water_conservative_to_high_conf_water_fmask_values,\n",
    "        aerosol_partial_surface_aggressive_to_high_conf_water_fmask_values =\n",
    "            args.aerosol_partial_surface_aggressive_to_high_conf_water_fmask_values,\n",
    "        shadow_masking_algorithm=args.shadow_masking_algorithm,\n",
    "        min_slope_angle = args.min_slope_angle,\n",
    "        max_sun_local_inc_angle=args.max_sun_local_inc_angle,\n",
    "        mask_adjacent_to_cloud_mode=args.mask_adjacent_to_cloud_mode,\n",
    "        forest_mask_landcover_classes=args.forest_mask_landcover_classes,\n",
    "        ocean_masking_shoreline_distance_km = \\\n",
    "            args.ocean_masking_shoreline_distance_km,\n",
    "        flag_debug=args.flag_debug)"
   ]
  },
  {
   "cell_type": "markdown",
   "id": "ef38a23d-d432-4b15-a3cc-d5385dcc3a9e",
   "metadata": {},
   "source": [
    "# Inspect"
   ]
  },
  {
   "cell_type": "code",
   "execution_count": 42,
   "id": "9a650afe-cd68-4f86-9caa-6f720b9e6d27",
   "metadata": {},
   "outputs": [
    {
     "data": {
      "text/plain": [
       "PosixPath('out/OPERA_L3_DSWx-HLS_T53KMA_20210915T011731Z_202401091018Z_1.0/OPERA_L3_DSWx-HLS_T53KMA_20210915T011731Z_202401091018Z_v1.0_B01_WTR.tif')"
      ]
     },
     "execution_count": 42,
     "metadata": {},
     "output_type": "execute_result"
    }
   ],
   "source": [
    "wtr_path = list(output_dir.glob('*WTR.tif'))[0]\n",
    "wtr_path"
   ]
  },
  {
   "cell_type": "code",
   "execution_count": 43,
   "id": "d0ad3364-361e-479e-a134-2648f611ea68",
   "metadata": {},
   "outputs": [
    {
     "data": {
      "text/plain": [
       "{'driver': 'GTiff', 'dtype': 'uint8', 'nodata': 255.0, 'width': 3660, 'height': 3660, 'count': 1, 'crs': CRS.from_wkt('PROJCS[\"UTM Zone 53, Northern Hemisphere\",GEOGCS[\"Unknown datum based upon the WGS 84 ellipsoid\",DATUM[\"Not specified (based on WGS 84 spheroid)\",SPHEROID[\"WGS 84\",6378137,298.257223563,AUTHORITY[\"EPSG\",\"7030\"]]],PRIMEM[\"Greenwich\",0],UNIT[\"degree\",0.0174532925199433,AUTHORITY[\"EPSG\",\"9122\"]]],PROJECTION[\"Transverse_Mercator\"],PARAMETER[\"latitude_of_origin\",0],PARAMETER[\"central_meridian\",135],PARAMETER[\"scale_factor\",0.9996],PARAMETER[\"false_easting\",500000],PARAMETER[\"false_northing\",0],UNIT[\"metre\",1,AUTHORITY[\"EPSG\",\"9001\"]],AXIS[\"Easting\",EAST],AXIS[\"Northing\",NORTH]]'), 'transform': Affine(30.0, 0.0, 399960.0,\n",
       "       0.0, -30.0, -1899960.0), 'blockxsize': 512, 'blockysize': 512, 'tiled': True, 'compress': 'deflate', 'interleave': 'band'}"
      ]
     },
     "execution_count": 43,
     "metadata": {},
     "output_type": "execute_result"
    }
   ],
   "source": [
    "with rasterio.open(wtr_path) as ds:\n",
    "    X = ds.read(1)\n",
    "    p = ds.profile\n",
    "p"
   ]
  },
  {
   "cell_type": "code",
   "execution_count": 44,
   "id": "154f4e4b-64c2-46e2-898b-b8c8b40a7c0f",
   "metadata": {},
   "outputs": [
    {
     "data": {
      "text/plain": [
       "<matplotlib.colorbar.Colorbar at 0x1690b3390>"
      ]
     },
     "execution_count": 44,
     "metadata": {},
     "output_type": "execute_result"
    },
    {
     "data": {
      "image/png": "[encoded data removed]",
      "text/plain": [
       "<Figure size 640x480 with 2 Axes>"
      ]
     },
     "metadata": {},
     "output_type": "display_data"
    }
   ],
   "source": [
    "plt.imshow(X)\n",
    "plt.colorbar()"
   ]
  }
 ],
 "metadata": {
  "kernelspec": {
   "display_name": "dswx_hls_generation",
   "language": "python",
   "name": "dswx_hls_generation"
  },
  "language_info": {
   "codemirror_mode": {
    "name": "ipython",
    "version": 3
   },
   "file_extension": ".py",
   "mimetype": "text/x-python",
   "name": "python",
   "nbconvert_exporter": "python",
   "pygments_lexer": "ipython3",
   "version": "3.11.7"
  }
 },
 "nbformat": 4,
 "nbformat_minor": 5
}
